{
 "cells": [
  {
   "cell_type": "code",
   "execution_count": 6,
   "metadata": {},
   "outputs": [
    {
     "name": "stdout",
     "output_type": "stream",
     "text": [
      "Requirement already satisfied: spellchecker in c:\\users\\yash pandey\\anaconda3\\lib\\site-packages (0.4)\n",
      "Requirement already satisfied: inexactsearch in c:\\users\\yash pandey\\anaconda3\\lib\\site-packages (from spellchecker) (1.0.2)\n",
      "Requirement already satisfied: setuptools in c:\\users\\yash pandey\\anaconda3\\lib\\site-packages (from spellchecker) (45.2.0.post20200210)\n",
      "Requirement already satisfied: silpa-common>=0.3 in c:\\users\\yash pandey\\anaconda3\\lib\\site-packages (from inexactsearch->spellchecker) (0.3)\n",
      "Requirement already satisfied: soundex>=1.0 in c:\\users\\yash pandey\\anaconda3\\lib\\site-packages (from inexactsearch->spellchecker) (1.1.3)\n"
     ]
    }
   ],
   "source": [
    "!pip install spellchecker"
   ]
  },
  {
   "cell_type": "code",
   "execution_count": 1,
   "metadata": {},
   "outputs": [
    {
     "name": "stdout",
     "output_type": "stream",
     "text": [
      "somethingggggg\n",
      "{'somethingggggg'}\n"
     ]
    }
   ],
   "source": [
    "from spellchecker import SpellChecker\n",
    "\n",
    "spell = SpellChecker()\n",
    "\n",
    "# find those words that may be misspelled\n",
    "misspelled = spell.unknown(['somethingggggg', 'is', 'come', 'here'])\n",
    "\n",
    "for word in misspelled:\n",
    "    # Get the one `most likely` answer\n",
    "    print(spell.correction(word))\n",
    "\n",
    "    # Get a list of `likely` options\n",
    "    print(spell.candidates(word))"
   ]
  },
  {
   "cell_type": "code",
   "execution_count": null,
   "metadata": {},
   "outputs": [],
   "source": []
  }
 ],
 "metadata": {
  "kernelspec": {
   "display_name": "Python 3",
   "language": "python",
   "name": "python3"
  },
  "language_info": {
   "codemirror_mode": {
    "name": "ipython",
    "version": 3
   },
   "file_extension": ".py",
   "mimetype": "text/x-python",
   "name": "python",
   "nbconvert_exporter": "python",
   "pygments_lexer": "ipython3",
   "version": "3.7.6"
  }
 },
 "nbformat": 4,
 "nbformat_minor": 4
}
